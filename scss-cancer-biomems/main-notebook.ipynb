{
 "cells": [
  {
   "cell_type": "raw",
   "id": "8b53af2b-ebc4-44bf-8dfe-3c80c7906940",
   "metadata": {},
   "source": [
    "- add tools' versions\n",
    "- host mirror on colab to run online"
   ]
  },
  {
   "cell_type": "markdown",
   "id": "832993d1-2a01-4624-891d-f4c86e4ef08b",
   "metadata": {},
   "source": [
    "# An open source software-defined BioMEMS SoC for early breast cancer detection"
   ]
  },
  {
   "cell_type": "markdown",
   "id": "e5674ac0-980e-46ed-b365-5929c5dade2e",
   "metadata": {},
   "source": [
    "*\"open in Colab\" banner*"
   ]
  },
  {
   "cell_type": "raw",
   "id": "e4e7d78c-57fd-4211-938d-085a03d94b30",
   "metadata": {},
   "source": [
    "Submission to IEEE SSCS Open-Source Ecosystem “Code-a-Chip” Travel Grant Awards at ISSCC'24\n",
    "License: ???"
   ]
  },
  {
   "cell_type": "markdown",
   "id": "ac1d6ba7-af3e-481a-b887-ffa875599cff",
   "metadata": {},
   "source": [
    "|Name|Affiliation|IEEE Member|SSCS Member|\n",
    "|:--:|:----------:|:----------:|:----------:|\n",
    "|Lucca Reinehr Silva <br /> Email ID: luccareinehr@gmail.com|UFRGS, Brazil <br /> CentraleSupélec, France|Yes|No|"
   ]
  },
  {
   "cell_type": "raw",
   "id": "072a4cad-0259-4953-9335-7da253b9eec5",
   "metadata": {},
   "source": [
    "abstract (resumo) aaa"
   ]
  },
  {
   "cell_type": "markdown",
   "id": "a52f7eae-c1f6-4a57-9a6a-29826184626e",
   "metadata": {},
   "source": [
    "## Intro"
   ]
  },
  {
   "cell_type": "markdown",
   "id": "6f777432-0108-45ae-9a18-81af79745229",
   "metadata": {},
   "source": [
    "Cancer is a large group of diseases where cells become disorganised and divide uncontrollably. This, however, does not happen silently. Cell growth on itself and how the body reacts to it create substances called **biomarkers**, which can be measured to detect cancer (in this case). Cancer biomarkers are usually found in body fluids such as blood, urine, or tissue samples, depending on what type of cancer is present [[1]](#ref1-biomarker).\n",
    "\n",
    "The idea of this project is to leverage a resonating MEMS system to create a cancer biomarker sensor. To be more specific, the biomarker chosen is HER2 (*human epidermal growth factor receptor 2*), a protein that helps control the growth and division of cells. Around 20% of breast cancers have an overexpression of this protein, in which case they are denoted as \"HER2-positive\" [[2]](#ref2-HER2). This makes the cancer more agressive... but also detectable early by using HER2 as a biomarker.\n",
    "\n",
    "### The MEMS device\n",
    "\n",
    "To do that, we'll propose a two-way coupled resonator DETF (*double-ended tuning fork*) system, inspired by an article from Thiruvenkatanathan et al. [[3]](#ref3-coupledDETF). It has a relatively simple geometry, which will help when planning manufacturing (a big challenge in innovative MEMS designs), and is easier to model and couple with another resonator. The two resonators will be electrostatically coupled via a parallel-plate inbetween them. A top-view representation of this mechanical system is shown below."
   ]
  },
  {
   "cell_type": "markdown",
   "id": "6a20f693-8555-4d3e-a9ab-2817d6adc486",
   "metadata": {},
   "source": [
    "![](./img/coupled-DETF-diagram.png)\n",
    "\n",
    "*The moving parts of the two resonators are in blue and pink; in normal operation, they vibrate.*"
   ]
  },
  {
   "cell_type": "markdown",
   "id": "aceae879-aa8d-480c-afcc-4cdc9a6d0da4",
   "metadata": {},
   "source": [
    "Such a system can detect variations in the structure of each resonator. For instance, if both resonators are identical, they'll have the same resonant frequency (i.e., the frequency of maximum amplitude of oscillation). If there is a slight difference $\\Delta M$ in their masses or in their stiffness $\\Delta k$, the resonant frequency of both resonators will start to differ. Similarly, in closed-loop excitation with a constant frequency, their oscillation amplitudes will become non-equal.\n",
    "\n",
    "Thus, by applying an organic coating that captures HER2 proteins in only one of the resonators, its mass will increase according to the number of proteins captured, which creates a difference in resonant frequency (or amplitude) between the resonators that can be measured electrically. For that, the system must be in continuous oscillation, so a closed-loop analog/digital circuitry will also be designed.\n",
    "\n",
    "We'll envision to create a CMOS/MEMS system with monolithic integration (i.e., the electronic and mechanical parts are in the same silicon die). This way, such a device could not only be used to test patient samples for biomarkers in a lab, but also for in-situ installation of the SoC to detect cancer early in high-risk patients [[4]](#ref4-HER2serum) $-$ in this case, probably combined with an energy harvester for power supply."
   ]
  },
  {
   "cell_type": "markdown",
   "id": "774a3f45-89d7-42f4-852d-88b3e662d4ff",
   "metadata": {},
   "source": [
    "## Code-the-chip"
   ]
  },
  {
   "cell_type": "code",
   "execution_count": 7,
   "id": "68f1b085-408e-4fbf-94ed-33c2c3af4fea",
   "metadata": {},
   "outputs": [
    {
     "name": "stdout",
     "output_type": "stream",
     "text": [
      "Defaulting to user installation because normal site-packages is not writeable\n",
      "Requirement already satisfied: gdsfactory in ./.local/lib/python3.10/site-packages (7.8.17)\n",
      "Collecting sfepy\n",
      "  Downloading sfepy-2023.3.tar.gz (15.4 MB)\n",
      "\u001b[2K     \u001b[90m━━━━━━━━━━━━━━━━━━━━━━━━━━━━━━━━━━━━━━━━\u001b[0m \u001b[32m15.4/15.4 MB\u001b[0m \u001b[31m5.6 MB/s\u001b[0m eta \u001b[36m0:00:00\u001b[0m00:01\u001b[0m00:01\u001b[0mm\n",
      "\u001b[?25h  Installing build dependencies ... \u001b[?25ldone\n",
      "\u001b[?25h  Getting requirements to build wheel ... \u001b[?25ldone\n",
      "\u001b[?25h  Preparing metadata (pyproject.toml) ... \u001b[?25ldone\n",
      "\u001b[?25hCollecting meshio\n",
      "  Using cached meshio-5.3.4-py3-none-any.whl (167 kB)\n",
      "Requirement already satisfied: types-PyYAML in ./.local/lib/python3.10/site-packages (from gdsfactory) (6.0.12.12)\n",
      "Requirement already satisfied: pyyaml in /usr/lib/python3/dist-packages (from gdsfactory) (5.4.1)\n",
      "Requirement already satisfied: omegaconf<3 in ./.local/lib/python3.10/site-packages (from gdsfactory) (2.3.0)\n",
      "Requirement already satisfied: pydantic<2.5,>=2 in ./.local/lib/python3.10/site-packages (from gdsfactory) (2.4.2)\n",
      "Requirement already satisfied: pydantic-extra-types<3 in ./.local/lib/python3.10/site-packages (from gdsfactory) (2.1.0)\n",
      "Requirement already satisfied: jinja2<4 in ./.local/lib/python3.10/site-packages (from gdsfactory) (3.1.2)\n",
      "Requirement already satisfied: toolz<1 in ./.local/lib/python3.10/site-packages (from gdsfactory) (0.12.0)\n",
      "Requirement already satisfied: shapely<3 in ./.local/lib/python3.10/site-packages (from gdsfactory) (2.0.2)\n",
      "Requirement already satisfied: matplotlib<4 in ./.local/lib/python3.10/site-packages (from gdsfactory) (3.8.1)\n",
      "Requirement already satisfied: scipy<2 in ./.local/lib/python3.10/site-packages (from gdsfactory) (1.11.3)\n",
      "Requirement already satisfied: pydantic-settings<3 in ./.local/lib/python3.10/site-packages (from gdsfactory) (2.0.3)\n",
      "Requirement already satisfied: qrcode in ./.local/lib/python3.10/site-packages (from gdsfactory) (7.4.2)\n",
      "Requirement already satisfied: numpy<2 in ./.local/lib/python3.10/site-packages (from gdsfactory) (1.26.1)\n",
      "Requirement already satisfied: rectpack<1 in ./.local/lib/python3.10/site-packages (from gdsfactory) (0.2.2)\n",
      "Requirement already satisfied: loguru<1 in ./.local/lib/python3.10/site-packages (from gdsfactory) (0.7.2)\n",
      "Requirement already satisfied: rich<14 in ./.local/lib/python3.10/site-packages (from gdsfactory) (13.6.0)\n",
      "Requirement already satisfied: watchdog<4 in ./.local/lib/python3.10/site-packages (from gdsfactory) (3.0.0)\n",
      "Requirement already satisfied: orjson<4 in ./.local/lib/python3.10/site-packages (from gdsfactory) (3.9.10)\n",
      "Requirement already satisfied: flatdict in ./.local/lib/python3.10/site-packages (from gdsfactory) (4.0.1)\n",
      "Requirement already satisfied: gdstk<0.10,>=0.9.44 in ./.local/lib/python3.10/site-packages (from gdsfactory) (0.9.46)\n",
      "Requirement already satisfied: pandas<3 in ./.local/lib/python3.10/site-packages (from gdsfactory) (2.1.2)\n",
      "Requirement already satisfied: typer<1 in ./.local/lib/python3.10/site-packages (from gdsfactory) (0.9.0)\n",
      "Collecting pyvista\n",
      "  Downloading pyvista-0.42.3-py3-none-any.whl (1.6 MB)\n",
      "\u001b[2K     \u001b[90m━━━━━━━━━━━━━━━━━━━━━━━━━━━━━━━━━━━━━━━━\u001b[0m \u001b[32m1.6/1.6 MB\u001b[0m \u001b[31m1.9 MB/s\u001b[0m eta \u001b[36m0:00:00\u001b[0m00:01\u001b[0m00:01\u001b[0m0m\n",
      "\u001b[?25hCollecting tables\n",
      "  Using cached tables-3.9.1-cp310-cp310-manylinux_2_17_x86_64.manylinux2014_x86_64.whl (7.5 MB)\n",
      "Requirement already satisfied: packaging in ./.local/lib/python3.10/site-packages (from sfepy) (23.2)\n",
      "Collecting sympy\n",
      "  Downloading sympy-1.12-py3-none-any.whl (5.7 MB)\n",
      "\u001b[2K     \u001b[90m━━━━━━━━━━━━━━━━━━━━━━━━━━━━━━━━━━━━━━━━\u001b[0m \u001b[32m5.7/5.7 MB\u001b[0m \u001b[31m4.1 MB/s\u001b[0m eta \u001b[36m0:00:00\u001b[0m00:01\u001b[0m00:01\u001b[0m\n",
      "\u001b[?25hRequirement already satisfied: pyparsing in /usr/lib/python3/dist-packages (from sfepy) (2.4.7)\n",
      "Requirement already satisfied: typing-extensions in ./.local/lib/python3.10/site-packages (from gdstk<0.10,>=0.9.44->gdsfactory) (4.8.0)\n",
      "Requirement already satisfied: MarkupSafe>=2.0 in ./.local/lib/python3.10/site-packages (from jinja2<4->gdsfactory) (2.1.3)\n",
      "Requirement already satisfied: fonttools>=4.22.0 in ./.local/lib/python3.10/site-packages (from matplotlib<4->gdsfactory) (4.43.1)\n",
      "Requirement already satisfied: kiwisolver>=1.3.1 in ./.local/lib/python3.10/site-packages (from matplotlib<4->gdsfactory) (1.4.5)\n",
      "Requirement already satisfied: contourpy>=1.0.1 in ./.local/lib/python3.10/site-packages (from matplotlib<4->gdsfactory) (1.1.1)\n",
      "Requirement already satisfied: pillow>=8 in ./.local/lib/python3.10/site-packages (from matplotlib<4->gdsfactory) (10.0.1)\n",
      "Requirement already satisfied: python-dateutil>=2.7 in ./.local/lib/python3.10/site-packages (from matplotlib<4->gdsfactory) (2.8.2)\n",
      "Requirement already satisfied: cycler>=0.10 in ./.local/lib/python3.10/site-packages (from matplotlib<4->gdsfactory) (0.12.1)\n",
      "Requirement already satisfied: antlr4-python3-runtime==4.9.* in ./.local/lib/python3.10/site-packages (from omegaconf<3->gdsfactory) (4.9.3)\n",
      "Requirement already satisfied: pytz>=2020.1 in ./.local/lib/python3.10/site-packages (from pandas<3->gdsfactory) (2023.3.post1)\n",
      "Requirement already satisfied: tzdata>=2022.1 in ./.local/lib/python3.10/site-packages (from pandas<3->gdsfactory) (2023.3)\n",
      "Requirement already satisfied: annotated-types>=0.4.0 in ./.local/lib/python3.10/site-packages (from pydantic<2.5,>=2->gdsfactory) (0.6.0)\n",
      "Requirement already satisfied: pydantic-core==2.10.1 in ./.local/lib/python3.10/site-packages (from pydantic<2.5,>=2->gdsfactory) (2.10.1)\n",
      "Requirement already satisfied: python-dotenv>=0.21.0 in ./.local/lib/python3.10/site-packages (from pydantic-settings<3->gdsfactory) (1.0.0)\n",
      "Requirement already satisfied: markdown-it-py>=2.2.0 in ./.local/lib/python3.10/site-packages (from rich<14->gdsfactory) (3.0.0)\n",
      "Requirement already satisfied: pygments<3.0.0,>=2.13.0 in ./.local/lib/python3.10/site-packages (from rich<14->gdsfactory) (2.16.1)\n",
      "Requirement already satisfied: click<9.0.0,>=7.1.1 in ./.local/lib/python3.10/site-packages (from typer<1->gdsfactory) (8.1.7)\n",
      "Collecting scooby>=0.5.1\n",
      "  Downloading scooby-0.9.2-py3-none-any.whl (18 kB)\n",
      "Collecting vtk\n",
      "  Downloading vtk-9.3.0-cp310-cp310-manylinux_2_17_x86_64.manylinux2014_x86_64.whl (92.0 MB)\n",
      "\u001b[2K     \u001b[90m━━━━━━━━━━━━━━━━━━━━━━━━━━━━━━━━━━━━━━━━\u001b[0m \u001b[32m92.0/92.0 MB\u001b[0m \u001b[31m2.7 MB/s\u001b[0m eta \u001b[36m0:00:00\u001b[0m00:01\u001b[0m00:02\u001b[0m\n",
      "\u001b[?25hCollecting pooch\n",
      "  Downloading pooch-1.8.0-py3-none-any.whl (62 kB)\n",
      "\u001b[2K     \u001b[90m━━━━━━━━━━━━━━━━━━━━━━━━━━━━━━━━━━━━━━━━\u001b[0m \u001b[32m62.7/62.7 KB\u001b[0m \u001b[31m1.7 MB/s\u001b[0m eta \u001b[36m0:00:00\u001b[0m00:01\u001b[0m\n",
      "\u001b[?25hRequirement already satisfied: pypng in ./.local/lib/python3.10/site-packages (from qrcode->gdsfactory) (0.20220715.0)\n",
      "Collecting mpmath>=0.19\n",
      "  Downloading mpmath-1.3.0-py3-none-any.whl (536 kB)\n",
      "\u001b[2K     \u001b[90m━━━━━━━━━━━━━━━━━━━━━━━━━━━━━━━━━━━━━━━\u001b[0m \u001b[32m536.2/536.2 KB\u001b[0m \u001b[31m2.1 MB/s\u001b[0m eta \u001b[36m0:00:00\u001b[0m00:01\u001b[0m00:01\u001b[0m\n",
      "\u001b[?25hCollecting py-cpuinfo\n",
      "  Using cached py_cpuinfo-9.0.0-py3-none-any.whl (22 kB)\n",
      "Collecting numexpr>=2.6.2\n",
      "  Using cached numexpr-2.8.7-cp310-cp310-manylinux_2_17_x86_64.manylinux2014_x86_64.whl (384 kB)\n",
      "Collecting blosc2>=2.2.8\n",
      "  Using cached blosc2-2.3.1-cp310-cp310-manylinux_2_17_x86_64.manylinux2014_x86_64.whl (4.3 MB)\n",
      "Collecting msgpack\n",
      "  Using cached msgpack-1.0.7-cp310-cp310-manylinux_2_17_x86_64.manylinux2014_x86_64.whl (530 kB)\n",
      "Collecting ndindex>=1.4\n",
      "  Using cached ndindex-1.7-py3-none-any.whl (85 kB)\n",
      "Requirement already satisfied: mdurl~=0.1 in ./.local/lib/python3.10/site-packages (from markdown-it-py>=2.2.0->rich<14->gdsfactory) (0.1.2)\n",
      "Requirement already satisfied: six>=1.5 in /usr/lib/python3/dist-packages (from python-dateutil>=2.7->matplotlib<4->gdsfactory) (1.16.0)\n",
      "Requirement already satisfied: requests>=2.19.0 in ./.local/lib/python3.10/site-packages (from pooch->pyvista->sfepy) (2.31.0)\n",
      "Requirement already satisfied: platformdirs>=2.5.0 in ./.local/lib/python3.10/site-packages (from pooch->pyvista->sfepy) (3.11.0)\n",
      "Requirement already satisfied: charset-normalizer<4,>=2 in ./.local/lib/python3.10/site-packages (from requests>=2.19.0->pooch->pyvista->sfepy) (3.3.2)\n",
      "Requirement already satisfied: certifi>=2017.4.17 in ./.local/lib/python3.10/site-packages (from requests>=2.19.0->pooch->pyvista->sfepy) (2023.7.22)\n",
      "Requirement already satisfied: idna<4,>=2.5 in ./.local/lib/python3.10/site-packages (from requests>=2.19.0->pooch->pyvista->sfepy) (3.4)\n",
      "Requirement already satisfied: urllib3<3,>=1.21.1 in ./.local/lib/python3.10/site-packages (from requests>=2.19.0->pooch->pyvista->sfepy) (2.0.7)\n",
      "Building wheels for collected packages: sfepy\n",
      "  Building wheel for sfepy (pyproject.toml) ... \u001b[?25lerror\n",
      "  \u001b[1;31merror\u001b[0m: \u001b[1msubprocess-exited-with-error\u001b[0m\n",
      "  \n",
      "  \u001b[31m×\u001b[0m \u001b[32mBuilding wheel for sfepy \u001b[0m\u001b[1;32m(\u001b[0m\u001b[32mpyproject.toml\u001b[0m\u001b[1;32m)\u001b[0m did not run successfully.\n",
      "  \u001b[31m│\u001b[0m exit code: \u001b[1;36m1\u001b[0m\n",
      "  \u001b[31m╰─>\u001b[0m \u001b[31m[22 lines of output]\u001b[0m\n",
      "  \u001b[31m   \u001b[0m WARNING:root:sympy (optional) is missing; some tests are going to fail!\n",
      "  \u001b[31m   \u001b[0m WARNING:root:igakit (optional) is missing; you may get run-time errors\n",
      "  \u001b[31m   \u001b[0m WARNING:root:petsc4py (optional) is missing; you may get run-time errors\n",
      "  \u001b[31m   \u001b[0m WARNING:root:mpi4py (optional) is missing; you may get run-time errors\n",
      "  \u001b[31m   \u001b[0m WARNING:root:slepc4py (optional) is missing; you may get run-time errors\n",
      "  \u001b[31m   \u001b[0m WARNING:root:pymetis (optional) is missing; you may get run-time errors\n",
      "  \u001b[31m   \u001b[0m WARNING:root:scikits.umfpack (optional) is missing; you may get run-time errors\n",
      "  \u001b[31m   \u001b[0m WARNING:root:psutil (optional) is missing; you may get run-time errors\n",
      "  \u001b[31m   \u001b[0m WARNING:root:pyvista (optional) is missing; you may get run-time errors\n",
      "  \u001b[31m   \u001b[0m WARNING:root:opt_einsum (optional) is missing; you may get run-time errors\n",
      "  \u001b[31m   \u001b[0m WARNING:root:jax (optional) is missing; you may get run-time errors\n",
      "  \u001b[31m   \u001b[0m WARNING:root:dask (optional) is missing; you may get run-time errors\n",
      "  \u001b[31m   \u001b[0m WARNING:root:primme (optional) is missing; you may get run-time errors\n",
      "  \u001b[31m   \u001b[0m Traceback (most recent call last):\n",
      "  \u001b[31m   \u001b[0m   File \"/tmp/pip-build-env-r1k2yd2c/overlay/local/lib/python3.10/dist-packages/skbuild/setuptools_wrap.py\", line 645, in setup\n",
      "  \u001b[31m   \u001b[0m     cmkr = cmaker.CMaker(cmake_executable)\n",
      "  \u001b[31m   \u001b[0m   File \"/tmp/pip-build-env-r1k2yd2c/overlay/local/lib/python3.10/dist-packages/skbuild/cmaker.py\", line 148, in __init__\n",
      "  \u001b[31m   \u001b[0m     self.cmake_version = get_cmake_version(self.cmake_executable)\n",
      "  \u001b[31m   \u001b[0m   File \"/tmp/pip-build-env-r1k2yd2c/overlay/local/lib/python3.10/dist-packages/skbuild/cmaker.py\", line 105, in get_cmake_version\n",
      "  \u001b[31m   \u001b[0m     raise SKBuildError(msg) from err\n",
      "  \u001b[31m   \u001b[0m \n",
      "  \u001b[31m   \u001b[0m Problem with the CMake installation, aborting build. CMake executable is cmake\n",
      "  \u001b[31m   \u001b[0m \u001b[31m[end of output]\u001b[0m\n",
      "  \n",
      "  \u001b[1;35mnote\u001b[0m: This error originates from a subprocess, and is likely not a problem with pip.\n",
      "\u001b[31m  ERROR: Failed building wheel for sfepy\u001b[0m\u001b[31m\n",
      "\u001b[0m\u001b[?25hFailed to build sfepy\n",
      "\u001b[31mERROR: Could not build wheels for sfepy, which is required to install pyproject.toml-based projects\u001b[0m\u001b[31m\n",
      "\u001b[0m"
     ]
    }
   ],
   "source": [
    "# Install dependencies\n",
    "!pip install gdsfactory gdspy sfepy meshio"
   ]
  },
  {
   "cell_type": "markdown",
   "id": "411e5647-749e-497d-aa9d-fce4ec2cf5fa",
   "metadata": {},
   "source": [
    "### Step 1: Making our own PDK\n",
    "\n",
    "The fabrication of MEMS devices usually requires a custom manufacturing process and PDK. The easiest way of making a MEMS sensor is to manufacture it in a separate die than its electronic support circuit, and connect them with wire bonding in package level. This wouldn't be as interesting for this project, so we're making a MEMS system with monolithic integration with CMOS, enabling to further miniaturize the device. There are several strategies possible for that, depending on the device characteristics and on available processes in the foundry.\n",
    "\n",
    "Normally, once a foundry is chosen, the process layers are supplied according to their fabrication capabilities and norms when discussing the project. Since I wasn't able to find an open source PDK adapted to MEMS fabrication, we're going to make our own.\n",
    "\n",
    "One possibility is to use a SOI (silicon-on-insulator) wafer for both CMOS and MEMS structures. They use largely available processes, have good dimensional control for mechanical structures, and good electrical isolation for the CMOS circuit [[5]](#ref5-cmosmems). However, since at the time of writing there is no mature open-source SOI CMOS PDK ([SKY90FD doesn't seem to be out yet](https://github.com/google/sky90fd-pdk)), we'll choose a different approach.\n",
    "\n",
    "Based on the [SKY130](https://github.com/google/skywater-pdk) process, one can add a dry etching step (DRIE or \"Bosch process\") **after the CMOS circuit is ready** to create a **trench** in the silicon substrate needed for suspending MEMS devices. What's also interesting is that this Bosch process is mentioned as one of the capabilities of the SkyWater foundry [on their website](https://www.skywatertechnology.com/mems-photonics-and-custom/). In this \"Bulk CMOS-MEMS Dry Process\" [\\[5](#ref5-cmosmems), [6\\]](#ref6-driecmosmems), the mechanical structure is fabricated from a composition of CMOS layers (mainly oxide and metal layers) with the single-crystal silicon (SCS) substrate. A diagram depicting the post-CMOS procedure is presented below.\n",
    "\n",
    "![](./img/post-cmos-drie.jpg)\n",
    "\n",
    "*DRIE bulk CMOS-MEMS process flow for 4-metal-layer CMOS. (a) Backside silicon DRIE to define MEMS areas; (b) Front SiO2 etching; (c) Front-side silicon DRIE; (d) Front-side etching with lateral undercut.*\n",
    "\n",
    "Therefore, we must modify the existing SKY130 PDK to consider additional layers for the MEMS part of the process. We're going to add a `trench` layer to define a through-hole structure in the substrate layer (fabricated via DRIE), similar to what is done in the former SOIMUMPs process [[7]](#ref7-science):"
   ]
  },
  {
   "cell_type": "code",
   "execution_count": 8,
   "id": "c375fb15-7bb2-423f-8321-62e4446c6694",
   "metadata": {},
   "outputs": [
    {
     "name": "stdout",
     "output_type": "stream",
     "text": [
      "Defaulting to user installation because normal site-packages is not writeable\n",
      "Collecting sky130\n",
      "  Downloading sky130-0.9.0-py3-none-any.whl (2.6 MB)\n",
      "\u001b[2K     \u001b[90m━━━━━━━━━━━━━━━━━━━━━━━━━━━━━━━━━━━━━━━━\u001b[0m \u001b[32m2.6/2.6 MB\u001b[0m \u001b[31m2.7 MB/s\u001b[0m eta \u001b[36m0:00:00\u001b[0m00:01\u001b[0m00:01\u001b[0m0m\n",
      "\u001b[?25hCollecting gdsfactory[cad]==7.8.17\n",
      "  Downloading gdsfactory-7.8.17-py3-none-any.whl (817 kB)\n",
      "\u001b[2K     \u001b[90m━━━━━━━━━━━━━━━━━━━━━━━━━━━━━━━━━━━━━━━\u001b[0m \u001b[32m817.3/817.3 KB\u001b[0m \u001b[31m2.5 MB/s\u001b[0m eta \u001b[36m0:00:00\u001b[0ma \u001b[36m0:00:01\u001b[0m\n",
      "\u001b[?25hCollecting PySpice\n",
      "  Downloading PySpice-1.5-py2.py3-none-any.whl (158 kB)\n",
      "\u001b[2K     \u001b[90m━━━━━━━━━━━━━━━━━━━━━━━━━━━━━━━━━━━━━━━\u001b[0m \u001b[32m158.5/158.5 KB\u001b[0m \u001b[31m1.1 MB/s\u001b[0m eta \u001b[36m0:00:00\u001b[0ma \u001b[36m0:00:01\u001b[0m\n",
      "\u001b[?25hRequirement already satisfied: pydantic<2.5,>=2 in ./.local/lib/python3.10/site-packages (from gdsfactory[cad]==7.8.17->sky130) (2.4.2)\n",
      "Requirement already satisfied: toolz<1 in ./.local/lib/python3.10/site-packages (from gdsfactory[cad]==7.8.17->sky130) (0.12.0)\n",
      "Requirement already satisfied: pandas<3 in ./.local/lib/python3.10/site-packages (from gdsfactory[cad]==7.8.17->sky130) (2.1.2)\n",
      "Requirement already satisfied: qrcode in ./.local/lib/python3.10/site-packages (from gdsfactory[cad]==7.8.17->sky130) (7.4.2)\n",
      "Requirement already satisfied: gdstk<0.10,>=0.9.44 in ./.local/lib/python3.10/site-packages (from gdsfactory[cad]==7.8.17->sky130) (0.9.46)\n",
      "Requirement already satisfied: numpy<2 in ./.local/lib/python3.10/site-packages (from gdsfactory[cad]==7.8.17->sky130) (1.26.1)\n",
      "Requirement already satisfied: watchdog<4 in ./.local/lib/python3.10/site-packages (from gdsfactory[cad]==7.8.17->sky130) (3.0.0)\n",
      "Requirement already satisfied: matplotlib<4 in ./.local/lib/python3.10/site-packages (from gdsfactory[cad]==7.8.17->sky130) (3.8.1)\n",
      "Requirement already satisfied: pydantic-extra-types<3 in ./.local/lib/python3.10/site-packages (from gdsfactory[cad]==7.8.17->sky130) (2.1.0)\n",
      "Requirement already satisfied: omegaconf<3 in ./.local/lib/python3.10/site-packages (from gdsfactory[cad]==7.8.17->sky130) (2.3.0)\n",
      "Requirement already satisfied: rectpack<1 in ./.local/lib/python3.10/site-packages (from gdsfactory[cad]==7.8.17->sky130) (0.2.2)\n",
      "Requirement already satisfied: jinja2<4 in ./.local/lib/python3.10/site-packages (from gdsfactory[cad]==7.8.17->sky130) (3.1.2)\n",
      "Requirement already satisfied: types-PyYAML in ./.local/lib/python3.10/site-packages (from gdsfactory[cad]==7.8.17->sky130) (6.0.12.12)\n",
      "Requirement already satisfied: flatdict in ./.local/lib/python3.10/site-packages (from gdsfactory[cad]==7.8.17->sky130) (4.0.1)\n",
      "Requirement already satisfied: rich<14 in ./.local/lib/python3.10/site-packages (from gdsfactory[cad]==7.8.17->sky130) (13.6.0)\n",
      "Requirement already satisfied: shapely<3 in ./.local/lib/python3.10/site-packages (from gdsfactory[cad]==7.8.17->sky130) (2.0.2)\n",
      "Requirement already satisfied: loguru<1 in ./.local/lib/python3.10/site-packages (from gdsfactory[cad]==7.8.17->sky130) (0.7.2)\n",
      "Requirement already satisfied: pyyaml in /usr/lib/python3/dist-packages (from gdsfactory[cad]==7.8.17->sky130) (5.4.1)\n",
      "Requirement already satisfied: typer<1 in ./.local/lib/python3.10/site-packages (from gdsfactory[cad]==7.8.17->sky130) (0.9.0)\n",
      "Requirement already satisfied: pydantic-settings<3 in ./.local/lib/python3.10/site-packages (from gdsfactory[cad]==7.8.17->sky130) (2.0.3)\n",
      "Requirement already satisfied: orjson<4 in ./.local/lib/python3.10/site-packages (from gdsfactory[cad]==7.8.17->sky130) (3.9.10)\n",
      "Requirement already satisfied: scipy<2 in ./.local/lib/python3.10/site-packages (from gdsfactory[cad]==7.8.17->sky130) (1.11.3)\n",
      "Requirement already satisfied: ipyevents in ./.local/lib/python3.10/site-packages (from gdsfactory[cad]==7.8.17->sky130) (2.0.2)\n",
      "Requirement already satisfied: jupytext in ./.local/lib/python3.10/site-packages (from gdsfactory[cad]==7.8.17->sky130) (1.15.2)\n",
      "Requirement already satisfied: ipytree in ./.local/lib/python3.10/site-packages (from gdsfactory[cad]==7.8.17->sky130) (0.2.2)\n",
      "Requirement already satisfied: ipycytoscape in ./.local/lib/python3.10/site-packages (from gdsfactory[cad]==7.8.17->sky130) (1.3.3)\n",
      "Requirement already satisfied: trimesh in ./.local/lib/python3.10/site-packages (from gdsfactory[cad]==7.8.17->sky130) (4.0.4)\n",
      "Requirement already satisfied: kweb<1.2,>=1.1.9 in ./.local/lib/python3.10/site-packages (from gdsfactory[cad]==7.8.17->sky130) (1.1.9)\n",
      "Requirement already satisfied: kfactory[git,ipy]<0.10,>=0.9.1 in ./.local/lib/python3.10/site-packages (from gdsfactory[cad]==7.8.17->sky130) (0.9.3)\n",
      "Requirement already satisfied: ipywidgets in ./.local/lib/python3.10/site-packages (from gdsfactory[cad]==7.8.17->sky130) (8.1.1)\n",
      "Requirement already satisfied: mapbox_earcut in ./.local/lib/python3.10/site-packages (from gdsfactory[cad]==7.8.17->sky130) (1.0.1)\n",
      "Requirement already satisfied: freetype-py in ./.local/lib/python3.10/site-packages (from gdsfactory[cad]==7.8.17->sky130) (2.4.0)\n",
      "Requirement already satisfied: pyglet<2 in ./.local/lib/python3.10/site-packages (from gdsfactory[cad]==7.8.17->sky130) (1.5.28)\n",
      "Requirement already satisfied: ipykernel in ./.local/lib/python3.10/site-packages (from gdsfactory[cad]==7.8.17->sky130) (6.26.0)\n",
      "Requirement already satisfied: networkx in ./.local/lib/python3.10/site-packages (from gdsfactory[cad]==7.8.17->sky130) (3.2.1)\n",
      "Requirement already satisfied: scikit-image in ./.local/lib/python3.10/site-packages (from gdsfactory[cad]==7.8.17->sky130) (0.22.0)\n",
      "Requirement already satisfied: ipympl in ./.local/lib/python3.10/site-packages (from gdsfactory[cad]==7.8.17->sky130) (0.9.3)\n",
      "Requirement already satisfied: requests>=2.23 in ./.local/lib/python3.10/site-packages (from PySpice->sky130) (2.31.0)\n",
      "Requirement already satisfied: cffi>=1.14 in ./.local/lib/python3.10/site-packages (from PySpice->sky130) (1.16.0)\n",
      "Collecting ply>=3.11\n",
      "  Downloading ply-3.11-py2.py3-none-any.whl (49 kB)\n",
      "\u001b[2K     \u001b[90m━━━━━━━━━━━━━━━━━━━━━━━━━━━━━━━━━━━━━━━━\u001b[0m \u001b[32m49.6/49.6 KB\u001b[0m \u001b[31m2.4 MB/s\u001b[0m eta \u001b[36m0:00:00\u001b[0m\n",
      "\u001b[?25hRequirement already satisfied: pycparser in ./.local/lib/python3.10/site-packages (from cffi>=1.14->PySpice->sky130) (2.21)\n",
      "Requirement already satisfied: typing-extensions in ./.local/lib/python3.10/site-packages (from gdstk<0.10,>=0.9.44->gdsfactory[cad]==7.8.17->sky130) (4.8.0)\n",
      "Requirement already satisfied: MarkupSafe>=2.0 in ./.local/lib/python3.10/site-packages (from jinja2<4->gdsfactory[cad]==7.8.17->sky130) (2.1.3)\n",
      "Requirement already satisfied: klayout>=0.28.12 in ./.local/lib/python3.10/site-packages (from kfactory[git,ipy]<0.10,>=0.9.1->gdsfactory[cad]==7.8.17->sky130) (0.28.12)\n",
      "Requirement already satisfied: ruamel.yaml in ./.local/lib/python3.10/site-packages (from kfactory[git,ipy]<0.10,>=0.9.1->gdsfactory[cad]==7.8.17->sky130) (0.18.5)\n",
      "Requirement already satisfied: aenum in ./.local/lib/python3.10/site-packages (from kfactory[git,ipy]<0.10,>=0.9.1->gdsfactory[cad]==7.8.17->sky130) (3.1.15)\n",
      "Requirement already satisfied: tomli in ./.local/lib/python3.10/site-packages (from kfactory[git,ipy]<0.10,>=0.9.1->gdsfactory[cad]==7.8.17->sky130) (2.0.1)\n",
      "Requirement already satisfied: cachetools>=5.2.0 in ./.local/lib/python3.10/site-packages (from kfactory[git,ipy]<0.10,>=0.9.1->gdsfactory[cad]==7.8.17->sky130) (5.3.2)\n",
      "Requirement already satisfied: ipython in ./.local/lib/python3.10/site-packages (from kfactory[git,ipy]<0.10,>=0.9.1->gdsfactory[cad]==7.8.17->sky130) (8.17.2)\n",
      "Requirement already satisfied: gitpython in ./.local/lib/python3.10/site-packages (from kfactory[git,ipy]<0.10,>=0.9.1->gdsfactory[cad]==7.8.17->sky130) (3.1.40)\n",
      "Requirement already satisfied: fastapi in ./.local/lib/python3.10/site-packages (from kweb<1.2,>=1.1.9->gdsfactory[cad]==7.8.17->sky130) (0.104.1)\n",
      "Requirement already satisfied: uvicorn[standard] in ./.local/lib/python3.10/site-packages (from kweb<1.2,>=1.1.9->gdsfactory[cad]==7.8.17->sky130) (0.24.0.post1)\n",
      "Requirement already satisfied: pillow>=8 in ./.local/lib/python3.10/site-packages (from matplotlib<4->gdsfactory[cad]==7.8.17->sky130) (10.0.1)\n",
      "Requirement already satisfied: kiwisolver>=1.3.1 in ./.local/lib/python3.10/site-packages (from matplotlib<4->gdsfactory[cad]==7.8.17->sky130) (1.4.5)\n",
      "Requirement already satisfied: contourpy>=1.0.1 in ./.local/lib/python3.10/site-packages (from matplotlib<4->gdsfactory[cad]==7.8.17->sky130) (1.1.1)\n",
      "Requirement already satisfied: fonttools>=4.22.0 in ./.local/lib/python3.10/site-packages (from matplotlib<4->gdsfactory[cad]==7.8.17->sky130) (4.43.1)\n",
      "Requirement already satisfied: pyparsing>=2.3.1 in /usr/lib/python3/dist-packages (from matplotlib<4->gdsfactory[cad]==7.8.17->sky130) (2.4.7)\n",
      "Requirement already satisfied: packaging>=20.0 in ./.local/lib/python3.10/site-packages (from matplotlib<4->gdsfactory[cad]==7.8.17->sky130) (23.2)\n",
      "Requirement already satisfied: cycler>=0.10 in ./.local/lib/python3.10/site-packages (from matplotlib<4->gdsfactory[cad]==7.8.17->sky130) (0.12.1)\n",
      "Requirement already satisfied: python-dateutil>=2.7 in ./.local/lib/python3.10/site-packages (from matplotlib<4->gdsfactory[cad]==7.8.17->sky130) (2.8.2)\n",
      "Requirement already satisfied: antlr4-python3-runtime==4.9.* in ./.local/lib/python3.10/site-packages (from omegaconf<3->gdsfactory[cad]==7.8.17->sky130) (4.9.3)\n",
      "Requirement already satisfied: pytz>=2020.1 in ./.local/lib/python3.10/site-packages (from pandas<3->gdsfactory[cad]==7.8.17->sky130) (2023.3.post1)\n",
      "Requirement already satisfied: tzdata>=2022.1 in ./.local/lib/python3.10/site-packages (from pandas<3->gdsfactory[cad]==7.8.17->sky130) (2023.3)\n",
      "Requirement already satisfied: annotated-types>=0.4.0 in ./.local/lib/python3.10/site-packages (from pydantic<2.5,>=2->gdsfactory[cad]==7.8.17->sky130) (0.6.0)\n",
      "Requirement already satisfied: pydantic-core==2.10.1 in ./.local/lib/python3.10/site-packages (from pydantic<2.5,>=2->gdsfactory[cad]==7.8.17->sky130) (2.10.1)\n",
      "Requirement already satisfied: python-dotenv>=0.21.0 in ./.local/lib/python3.10/site-packages (from pydantic-settings<3->gdsfactory[cad]==7.8.17->sky130) (1.0.0)\n",
      "Requirement already satisfied: charset-normalizer<4,>=2 in ./.local/lib/python3.10/site-packages (from requests>=2.23->PySpice->sky130) (3.3.2)\n",
      "Requirement already satisfied: idna<4,>=2.5 in ./.local/lib/python3.10/site-packages (from requests>=2.23->PySpice->sky130) (3.4)\n",
      "Requirement already satisfied: certifi>=2017.4.17 in ./.local/lib/python3.10/site-packages (from requests>=2.23->PySpice->sky130) (2023.7.22)\n",
      "Requirement already satisfied: urllib3<3,>=1.21.1 in ./.local/lib/python3.10/site-packages (from requests>=2.23->PySpice->sky130) (2.0.7)\n",
      "Requirement already satisfied: markdown-it-py>=2.2.0 in ./.local/lib/python3.10/site-packages (from rich<14->gdsfactory[cad]==7.8.17->sky130) (3.0.0)\n",
      "Requirement already satisfied: pygments<3.0.0,>=2.13.0 in ./.local/lib/python3.10/site-packages (from rich<14->gdsfactory[cad]==7.8.17->sky130) (2.16.1)\n",
      "Requirement already satisfied: click<9.0.0,>=7.1.1 in ./.local/lib/python3.10/site-packages (from typer<1->gdsfactory[cad]==7.8.17->sky130) (8.1.7)\n",
      "Requirement already satisfied: spectate>=1.0.0 in ./.local/lib/python3.10/site-packages (from ipycytoscape->gdsfactory[cad]==7.8.17->sky130) (1.0.1)\n",
      "Requirement already satisfied: comm>=0.1.3 in ./.local/lib/python3.10/site-packages (from ipywidgets->gdsfactory[cad]==7.8.17->sky130) (0.1.4)\n",
      "Requirement already satisfied: widgetsnbextension~=4.0.9 in ./.local/lib/python3.10/site-packages (from ipywidgets->gdsfactory[cad]==7.8.17->sky130) (4.0.9)\n",
      "Requirement already satisfied: traitlets>=4.3.1 in ./.local/lib/python3.10/site-packages (from ipywidgets->gdsfactory[cad]==7.8.17->sky130) (5.13.0)\n",
      "Requirement already satisfied: jupyterlab-widgets~=3.0.9 in ./.local/lib/python3.10/site-packages (from ipywidgets->gdsfactory[cad]==7.8.17->sky130) (3.0.9)\n",
      "Requirement already satisfied: jupyter-client>=6.1.12 in ./.local/lib/python3.10/site-packages (from ipykernel->gdsfactory[cad]==7.8.17->sky130) (8.5.0)\n",
      "Requirement already satisfied: pyzmq>=20 in ./.local/lib/python3.10/site-packages (from ipykernel->gdsfactory[cad]==7.8.17->sky130) (25.1.1)\n",
      "Requirement already satisfied: psutil in ./.local/lib/python3.10/site-packages (from ipykernel->gdsfactory[cad]==7.8.17->sky130) (5.9.6)\n",
      "Requirement already satisfied: tornado>=6.1 in ./.local/lib/python3.10/site-packages (from ipykernel->gdsfactory[cad]==7.8.17->sky130) (6.3.3)\n",
      "Requirement already satisfied: jupyter-core!=5.0.*,>=4.12 in ./.local/lib/python3.10/site-packages (from ipykernel->gdsfactory[cad]==7.8.17->sky130) (5.5.0)\n",
      "Requirement already satisfied: nest-asyncio in ./.local/lib/python3.10/site-packages (from ipykernel->gdsfactory[cad]==7.8.17->sky130) (1.5.8)\n",
      "Requirement already satisfied: debugpy>=1.6.5 in ./.local/lib/python3.10/site-packages (from ipykernel->gdsfactory[cad]==7.8.17->sky130) (1.8.0)\n",
      "Requirement already satisfied: matplotlib-inline>=0.1 in ./.local/lib/python3.10/site-packages (from ipykernel->gdsfactory[cad]==7.8.17->sky130) (0.1.6)\n",
      "Requirement already satisfied: ipython-genutils in ./.local/lib/python3.10/site-packages (from ipympl->gdsfactory[cad]==7.8.17->sky130) (0.2.0)\n",
      "Requirement already satisfied: mdit-py-plugins in ./.local/lib/python3.10/site-packages (from jupytext->gdsfactory[cad]==7.8.17->sky130) (0.4.0)\n",
      "Requirement already satisfied: nbformat in ./.local/lib/python3.10/site-packages (from jupytext->gdsfactory[cad]==7.8.17->sky130) (5.9.2)\n",
      "Requirement already satisfied: toml in ./.local/lib/python3.10/site-packages (from jupytext->gdsfactory[cad]==7.8.17->sky130) (0.10.2)\n",
      "Requirement already satisfied: pypng in ./.local/lib/python3.10/site-packages (from qrcode->gdsfactory[cad]==7.8.17->sky130) (0.20220715.0)\n",
      "Requirement already satisfied: imageio>=2.27 in ./.local/lib/python3.10/site-packages (from scikit-image->gdsfactory[cad]==7.8.17->sky130) (2.32.0)\n",
      "Requirement already satisfied: lazy_loader>=0.3 in ./.local/lib/python3.10/site-packages (from scikit-image->gdsfactory[cad]==7.8.17->sky130) (0.3)\n",
      "Requirement already satisfied: tifffile>=2022.8.12 in ./.local/lib/python3.10/site-packages (from scikit-image->gdsfactory[cad]==7.8.17->sky130) (2023.9.26)\n",
      "Requirement already satisfied: jedi>=0.16 in ./.local/lib/python3.10/site-packages (from ipython->kfactory[git,ipy]<0.10,>=0.9.1->gdsfactory[cad]==7.8.17->sky130) (0.19.1)\n",
      "Requirement already satisfied: stack-data in ./.local/lib/python3.10/site-packages (from ipython->kfactory[git,ipy]<0.10,>=0.9.1->gdsfactory[cad]==7.8.17->sky130) (0.6.3)\n",
      "Requirement already satisfied: pexpect>4.3 in ./.local/lib/python3.10/site-packages (from ipython->kfactory[git,ipy]<0.10,>=0.9.1->gdsfactory[cad]==7.8.17->sky130) (4.8.0)\n",
      "Requirement already satisfied: decorator in ./.local/lib/python3.10/site-packages (from ipython->kfactory[git,ipy]<0.10,>=0.9.1->gdsfactory[cad]==7.8.17->sky130) (5.1.1)\n",
      "Requirement already satisfied: prompt-toolkit!=3.0.37,<3.1.0,>=3.0.30 in ./.local/lib/python3.10/site-packages (from ipython->kfactory[git,ipy]<0.10,>=0.9.1->gdsfactory[cad]==7.8.17->sky130) (3.0.39)\n",
      "Requirement already satisfied: exceptiongroup in ./.local/lib/python3.10/site-packages (from ipython->kfactory[git,ipy]<0.10,>=0.9.1->gdsfactory[cad]==7.8.17->sky130) (1.1.3)\n",
      "Requirement already satisfied: platformdirs>=2.5 in ./.local/lib/python3.10/site-packages (from jupyter-core!=5.0.*,>=4.12->ipykernel->gdsfactory[cad]==7.8.17->sky130) (3.11.0)\n",
      "Requirement already satisfied: mdurl~=0.1 in ./.local/lib/python3.10/site-packages (from markdown-it-py>=2.2.0->rich<14->gdsfactory[cad]==7.8.17->sky130) (0.1.2)\n",
      "Requirement already satisfied: six>=1.5 in /usr/lib/python3/dist-packages (from python-dateutil>=2.7->matplotlib<4->gdsfactory[cad]==7.8.17->sky130) (1.16.0)\n",
      "Requirement already satisfied: anyio<4.0.0,>=3.7.1 in ./.local/lib/python3.10/site-packages (from fastapi->kweb<1.2,>=1.1.9->gdsfactory[cad]==7.8.17->sky130) (3.7.1)\n",
      "Requirement already satisfied: starlette<0.28.0,>=0.27.0 in ./.local/lib/python3.10/site-packages (from fastapi->kweb<1.2,>=1.1.9->gdsfactory[cad]==7.8.17->sky130) (0.27.0)\n",
      "Requirement already satisfied: gitdb<5,>=4.0.1 in ./.local/lib/python3.10/site-packages (from gitpython->kfactory[git,ipy]<0.10,>=0.9.1->gdsfactory[cad]==7.8.17->sky130) (4.0.11)\n",
      "Requirement already satisfied: jsonschema>=2.6 in ./.local/lib/python3.10/site-packages (from nbformat->jupytext->gdsfactory[cad]==7.8.17->sky130) (4.19.2)\n",
      "Requirement already satisfied: fastjsonschema in ./.local/lib/python3.10/site-packages (from nbformat->jupytext->gdsfactory[cad]==7.8.17->sky130) (2.18.1)\n",
      "Requirement already satisfied: ruamel.yaml.clib>=0.2.7 in ./.local/lib/python3.10/site-packages (from ruamel.yaml->kfactory[git,ipy]<0.10,>=0.9.1->gdsfactory[cad]==7.8.17->sky130) (0.2.8)\n",
      "Requirement already satisfied: shellingham<2.0.0,>=1.3.0 in ./.local/lib/python3.10/site-packages (from typer<1->gdsfactory[cad]==7.8.17->sky130) (1.5.4)\n",
      "Requirement already satisfied: colorama<0.5.0,>=0.4.3 in ./.local/lib/python3.10/site-packages (from typer<1->gdsfactory[cad]==7.8.17->sky130) (0.4.6)\n",
      "Requirement already satisfied: h11>=0.8 in ./.local/lib/python3.10/site-packages (from uvicorn[standard]->kweb<1.2,>=1.1.9->gdsfactory[cad]==7.8.17->sky130) (0.14.0)\n",
      "Requirement already satisfied: uvloop!=0.15.0,!=0.15.1,>=0.14.0 in ./.local/lib/python3.10/site-packages (from uvicorn[standard]->kweb<1.2,>=1.1.9->gdsfactory[cad]==7.8.17->sky130) (0.19.0)\n",
      "Requirement already satisfied: watchfiles>=0.13 in ./.local/lib/python3.10/site-packages (from uvicorn[standard]->kweb<1.2,>=1.1.9->gdsfactory[cad]==7.8.17->sky130) (0.21.0)\n",
      "Requirement already satisfied: websockets>=10.4 in ./.local/lib/python3.10/site-packages (from uvicorn[standard]->kweb<1.2,>=1.1.9->gdsfactory[cad]==7.8.17->sky130) (12.0)\n",
      "Requirement already satisfied: httptools>=0.5.0 in ./.local/lib/python3.10/site-packages (from uvicorn[standard]->kweb<1.2,>=1.1.9->gdsfactory[cad]==7.8.17->sky130) (0.6.1)\n",
      "Requirement already satisfied: sniffio>=1.1 in ./.local/lib/python3.10/site-packages (from anyio<4.0.0,>=3.7.1->fastapi->kweb<1.2,>=1.1.9->gdsfactory[cad]==7.8.17->sky130) (1.3.0)\n",
      "Requirement already satisfied: smmap<6,>=3.0.1 in ./.local/lib/python3.10/site-packages (from gitdb<5,>=4.0.1->gitpython->kfactory[git,ipy]<0.10,>=0.9.1->gdsfactory[cad]==7.8.17->sky130) (5.0.1)\n",
      "Requirement already satisfied: parso<0.9.0,>=0.8.3 in ./.local/lib/python3.10/site-packages (from jedi>=0.16->ipython->kfactory[git,ipy]<0.10,>=0.9.1->gdsfactory[cad]==7.8.17->sky130) (0.8.3)\n",
      "Requirement already satisfied: rpds-py>=0.7.1 in ./.local/lib/python3.10/site-packages (from jsonschema>=2.6->nbformat->jupytext->gdsfactory[cad]==7.8.17->sky130) (0.10.6)\n",
      "Requirement already satisfied: jsonschema-specifications>=2023.03.6 in ./.local/lib/python3.10/site-packages (from jsonschema>=2.6->nbformat->jupytext->gdsfactory[cad]==7.8.17->sky130) (2023.7.1)\n",
      "Requirement already satisfied: referencing>=0.28.4 in ./.local/lib/python3.10/site-packages (from jsonschema>=2.6->nbformat->jupytext->gdsfactory[cad]==7.8.17->sky130) (0.30.2)\n",
      "Requirement already satisfied: attrs>=22.2.0 in ./.local/lib/python3.10/site-packages (from jsonschema>=2.6->nbformat->jupytext->gdsfactory[cad]==7.8.17->sky130) (23.1.0)\n",
      "Requirement already satisfied: ptyprocess>=0.5 in ./.local/lib/python3.10/site-packages (from pexpect>4.3->ipython->kfactory[git,ipy]<0.10,>=0.9.1->gdsfactory[cad]==7.8.17->sky130) (0.7.0)\n",
      "Requirement already satisfied: wcwidth in ./.local/lib/python3.10/site-packages (from prompt-toolkit!=3.0.37,<3.1.0,>=3.0.30->ipython->kfactory[git,ipy]<0.10,>=0.9.1->gdsfactory[cad]==7.8.17->sky130) (0.2.9)\n",
      "Requirement already satisfied: pure-eval in ./.local/lib/python3.10/site-packages (from stack-data->ipython->kfactory[git,ipy]<0.10,>=0.9.1->gdsfactory[cad]==7.8.17->sky130) (0.2.2)\n",
      "Requirement already satisfied: executing>=1.2.0 in ./.local/lib/python3.10/site-packages (from stack-data->ipython->kfactory[git,ipy]<0.10,>=0.9.1->gdsfactory[cad]==7.8.17->sky130) (2.0.1)\n",
      "Requirement already satisfied: asttokens>=2.1.0 in ./.local/lib/python3.10/site-packages (from stack-data->ipython->kfactory[git,ipy]<0.10,>=0.9.1->gdsfactory[cad]==7.8.17->sky130) (2.4.1)\n",
      "Installing collected packages: ply, PySpice, gdsfactory, sky130\n",
      "  Attempting uninstall: gdsfactory\n",
      "    Found existing installation: gdsfactory 7.8.14\n",
      "    Uninstalling gdsfactory-7.8.14:\n",
      "      Successfully uninstalled gdsfactory-7.8.14\n",
      "Successfully installed PySpice-1.5 gdsfactory-7.8.17 ply-3.11 sky130-0.9.0\n"
     ]
    }
   ],
   "source": [
    "# Install sky130\n",
    "!pip install sky130"
   ]
  },
  {
   "cell_type": "code",
   "execution_count": 8,
   "id": "8166f4fd-82b9-4302-9e1a-5a0e32a35ebb",
   "metadata": {},
   "outputs": [
    {
     "name": "stderr",
     "output_type": "stream",
     "text": [
      "\u001b[32m2023-11-27 21:57:49.626\u001b[0m | \u001b[1mINFO    \u001b[0m | \u001b[36mgdsfactory.technology.layer_views\u001b[0m:\u001b[36m__init__\u001b[0m:\u001b[36m790\u001b[0m - \u001b[1mImporting LayerViews from YAML file: '/home/luccar/.local/lib/python3.10/site-packages/sky130/klayout/layers.yaml'.\u001b[0m\n",
      "/home/luccar/.local/lib/python3.10/site-packages/gdsfactory/pdk.py:267: UserWarning: The 'pdk.sparameters_path' is deprecated. Use gf.config.PATH instead\n",
      "  warnings.warn(\n",
      "\u001b[32m2023-11-27 21:57:49.699\u001b[0m | \u001b[33m\u001b[1mWARNING \u001b[0m | \u001b[36mgdsfactory.pdk\u001b[0m:\u001b[36mget_active_pdk\u001b[0m:\u001b[36m734\u001b[0m - \u001b[33m\u001b[1mNo active PDK. Activating generic PDK.\n",
      "\u001b[0m\n",
      "\u001b[32m2023-11-27 21:57:51.775\u001b[0m | \u001b[1mINFO    \u001b[0m | \u001b[36mgdsfactory.technology.layer_views\u001b[0m:\u001b[36m__init__\u001b[0m:\u001b[36m790\u001b[0m - \u001b[1mImporting LayerViews from YAML file: '/home/luccar/.local/lib/python3.10/site-packages/gdsfactory/generic_tech/layer_views.yaml'.\u001b[0m\n",
      "\u001b[32m2023-11-27 21:57:51.779\u001b[0m | \u001b[1mINFO    \u001b[0m | \u001b[36mgdsfactory.pdk\u001b[0m:\u001b[36mactivate\u001b[0m:\u001b[36m307\u001b[0m - \u001b[1m'generic' PDK is now active\u001b[0m\n",
      "\u001b[32m2023-11-27 21:57:51.782\u001b[0m | \u001b[1mINFO    \u001b[0m | \u001b[36mgdsfactory.pdk\u001b[0m:\u001b[36mregister_cells_yaml\u001b[0m:\u001b[36m395\u001b[0m - \u001b[1mRegistered cell 'sample'\u001b[0m\n",
      "\u001b[32m2023-11-27 21:57:51.788\u001b[0m | \u001b[1mINFO    \u001b[0m | \u001b[36mgdsfactory.pdk\u001b[0m:\u001b[36mactivate\u001b[0m:\u001b[36m307\u001b[0m - \u001b[1m'sky130' PDK is now active\u001b[0m\n",
      "\u001b[32m2023-11-27 21:57:51.790\u001b[0m | \u001b[1mINFO    \u001b[0m | \u001b[36msky130\u001b[0m:\u001b[36m<module>\u001b[0m:\u001b[36m28\u001b[0m - \u001b[1mload sky130 PDK '0.9.0' installed at '/home/luccar/.local/lib/python3.10/site-packages/sky130'\u001b[0m\n"
     ]
    }
   ],
   "source": [
    "import gdsfactory as gf\n",
    "from gdsfactory.typings import Layer\n",
    "import sky130 # sky130 activates the pdk when imported\n",
    "import sky130.layers as sl\n",
    "\n",
    "sky130 = gf.get_active_pdk()\n",
    "\n",
    "# create new layers\n",
    "class CustomLayerMap(sl.LayerMap):\n",
    "    trench: Layer = (98, 99)\n",
    "    coating: Layer = (99, 99)\n",
    "\n",
    "LAYER = CustomLayerMap()"
   ]
  },
  {
   "cell_type": "code",
   "execution_count": 9,
   "id": "dddec756-efe2-4134-a38d-1302083cc1bb",
   "metadata": {},
   "outputs": [
    {
     "name": "stderr",
     "output_type": "stream",
     "text": [
      "/home/luccar/.local/lib/python3.10/site-packages/gdsfactory/pdk.py:267: UserWarning: The 'pdk.sparameters_path' is deprecated. Use gf.config.PATH instead\n",
      "  warnings.warn(\n",
      "\u001b[32m2023-11-27 21:57:52.010\u001b[0m | \u001b[1mINFO    \u001b[0m | \u001b[36mgdsfactory.pdk\u001b[0m:\u001b[36mactivate\u001b[0m:\u001b[36m307\u001b[0m - \u001b[1m'custom_biomems_pdk' PDK is now active\u001b[0m\n"
     ]
    }
   ],
   "source": [
    "from gdsfactory.technology import LayerView\n",
    "\n",
    "# create layer views\n",
    "trench_lv = LayerView(\n",
    "    info=None,\n",
    " \tlayer=LAYER.trench,\n",
    " \tlayer_in_name=True,\n",
    " \tframe_color=\"magenta\",\n",
    " \tfill_color=\"magenta\",\n",
    " \tframe_brightness=0,\n",
    " \tfill_brightness=0,\n",
    " \thatch_pattern=\"dots\",\n",
    " \tline_style=None,\n",
    " \tvalid=True,\n",
    " \tvisible=True,\n",
    " \ttransparent=False,\n",
    " \twidth=1,\n",
    " \tmarked=False,\n",
    " \txfill=False,\n",
    " \tanimation=0,\n",
    " \tgroup_members={}\n",
    ")\n",
    "\n",
    "her2coating_lv = LayerView(\n",
    "    info=None,\n",
    " \tlayer=LAYER.coating,\n",
    " \tlayer_in_name=True,\n",
    " \tframe_color=\"blue\",\n",
    " \tfill_color=\"blue\",\n",
    " \tframe_brightness=0,\n",
    " \tfill_brightness=0,\n",
    " \thatch_pattern=\"solid\",\n",
    " \tline_style=None,\n",
    " \tvalid=True,\n",
    " \tvisible=True,\n",
    " \ttransparent=False,\n",
    " \twidth=1,\n",
    " \tmarked=False,\n",
    " \txfill=False,\n",
    " \tanimation=0,\n",
    " \tgroup_members={}\n",
    ")\n",
    "\n",
    "biomems_pdk = gf.Pdk(\n",
    "    name=\"custom_biomems_pdk\",\n",
    "    layers=dict(LAYER),\n",
    "    base_pdk=sky130,\n",
    "    sparameters_path=gf.config.sparameters_path,\n",
    "    layer_views=sky130.layer_views,\n",
    ")\n",
    "\n",
    "biomems_pdk.layer_views.layer_views['trench'] = trench_lv\n",
    "biomems_pdk.layer_views.layer_views['coating'] = her2coating_lv\n",
    "\n",
    "biomems_pdk.activate()"
   ]
  },
  {
   "cell_type": "markdown",
   "id": "2cfcc999-f42c-4368-b38f-cf7406eec1b7",
   "metadata": {},
   "source": [
    "Since one of the resonators will be coated with an organic compound that will capture the HER2 molecules, we've also added a `coating` layer to draw the coating.\n",
    "\n",
    "The choice of compound for this layer and of its manufacturing process is perhaps the trickiest part in the design of our BioMEMS device, and is beyond the scope of this notebook. However, some hints will be given to show that it may be feasible. There are several binding agents that have been studied for HER2, such as anti-HER2 antibodies [[8]](#ref8-her2antibodies) and a complex structure comprised of Affibody-biotin compounds and coated quantum dots [[9]](#ref9-quantumdot). To immobilize these compounds in the silicon, layer-by-layer deposition could perhaps be used [[10]](#ref10-layerbylayer)."
   ]
  },
  {
   "cell_type": "markdown",
   "id": "10a70745-41d7-44df-81e5-d1d3b94c8bba",
   "metadata": {},
   "source": [
    "### Step 2: Designing the coupled resonators"
   ]
  },
  {
   "cell_type": "markdown",
   "id": "6472e9ed-bd4f-44ab-bce7-ab3055280992",
   "metadata": {},
   "source": [
    "For easy device parametrization and integration with GDS files generated by other tools, we'll use gdsfactory for the MEMS design.\n",
    "\n",
    "First, let's create a single double-ended-tuning-fork (DETF) structure:"
   ]
  },
  {
   "cell_type": "code",
   "execution_count": 10,
   "id": "b82e621d-555f-462f-9f07-545984ff3ae1",
   "metadata": {},
   "outputs": [
    {
     "data": {
      "image/png": "[encoded data removed]",
      "text/plain": [
       "<Figure size 800x600 with 1 Axes>"
      ]
     },
     "metadata": {},
     "output_type": "display_data"
    }
   ],
   "source": [
    "from shapely.geometry.polygon import Polygon\n",
    "from shapely.affinity import scale\n",
    "\n",
    "def detf(length, width, thickness, layer):\n",
    "    c = gf.Component(\"detf\")\n",
    "\n",
    "    # tuning fork prong\n",
    "    rect0 = Polygon([(-length/2, -width/2), (-length/2, width/2), (length/2, width/2), (length/2, -width/2)])\n",
    "    rect1 = Polygon([(-length/2+thickness, -width/2+thickness), (-length/2+thickness, width/2-thickness), (length/2-thickness, width/2-thickness), (length/2-thickness, -width/2+thickness)])\n",
    "\n",
    "    rect0not1 = rect0 - rect1\n",
    "    c.add_polygon(rect0not1, layer=layer)\n",
    "\n",
    "    # anchor\n",
    "    base_thickness = 3*thickness\n",
    "    base_rect = Polygon([(-base_thickness/2, -width/2-base_thickness),(-base_thickness/2, -width/2),(base_thickness/2, -width/2),(base_thickness/2, -width/2-base_thickness)])\n",
    "    base_rect_mirr = scale(base_rect, xfact=1, yfact=-1, origin=(0, 0)) # mirror\n",
    "    c.add_polygon(base_rect.union(base_rect_mirr), layer=layer)\n",
    "\n",
    "    # drive electrode arm\n",
    "    drive_arm_length = length\n",
    "    drive_elec_arm = Polygon([(-length/2, -thickness/2),(-length/2, thickness/2),(-length/2-drive_arm_length, thickness/2),(-length/2-drive_arm_length, -thickness/2)])\n",
    "    drive_elec_arm_mirr = scale(drive_elec_arm, xfact=-1, yfact=1, origin=(0, 0)) # mirror\n",
    "    c.add_polygon(drive_elec_arm.union(drive_elec_arm_mirr), layer=layer)\n",
    "\n",
    "    # drive electrode\n",
    "    drive_elec_width = width/2\n",
    "    drive_elec_origin = -length/2-drive_arm_length\n",
    "    drive_elec = Polygon([(drive_elec_origin,-drive_elec_width/2),(drive_elec_origin, drive_elec_width/2),(drive_elec_origin-thickness, drive_elec_width/2),(drive_elec_origin-thickness, -drive_elec_width/2)])\n",
    "    drive_elec_mirr = scale(drive_elec, xfact=-1, yfact=1, origin=(0,0)) # mirror\n",
    "    c.add_polygon(drive_elec.union(drive_elec_mirr), layer=layer)\n",
    "    \n",
    "    return c\n",
    "\n",
    "length = 5\n",
    "width = 40\n",
    "thickness = 1\n",
    "\n",
    "detf(length, width, thickness, biomems_pdk.layers['coating']).plot()"
   ]
  },
  {
   "cell_type": "markdown",
   "id": "571b6e64-0759-46d6-aa04-235f57ff5ab4",
   "metadata": {},
   "source": [
    "Now, let's duplicate it and create the drive electrode structures (where the varying voltage from the control loop is applied), fixed in the silicon. Because of our chosen manufacturing strategy, we must draw structures for all layers from the silicon substrate up to metal #5:"
   ]
  },
  {
   "cell_type": "code",
   "execution_count": 12,
   "id": "65e16d98-7aea-4ebc-a01a-2024fd2ada2a",
   "metadata": {},
   "outputs": [],
   "source": [
    "def drive_electrode(length, width, layer):\n",
    "    c = gf.Component(\"drive_electrode\")\n",
    "\n",
    "    drive_elec_fixed = Polygon([(-length/2, -width/2),(-length/2, width/2),(length/2, width/2),(length/2, -width/2)])\n",
    "    c.add_polygon(drive_elec_fixed, layer=layer)\n",
    "    \n",
    "    return c\n",
    "\n",
    "def two_way_coupled_resonator(detf, detf_length, coupling_gap, drive_electrode, drive_elec_length):\n",
    "    c = gf.Component(\"two_way_coupled_resonator\")\n",
    "    \n",
    "    res1 = c.add_ref(detf)\n",
    "    res2 = c.add_ref(detf)\n",
    "    res1.move([-detf_length/2 - coupling_gap/2, 0])\n",
    "    res2.move([detf_length/2 + coupling_gap/2 ,0])\n",
    "\n",
    "    elec1 = c.add_ref(drive_electrode)\n",
    "    elec2 = c.add_ref(drive_electrode)\n",
    "    elec1.move([-detf_length - drive_elec_length/2 - coupling_gap, 0])\n",
    "    elec2.move([detf_length + drive_elec_length/2 + coupling_gap, 0])\n",
    "\n",
    "    return c"
   ]
  },
  {
   "cell_type": "code",
   "execution_count": 15,
   "id": "938efe2e-4226-4330-8469-5c7e8e7f42df",
   "metadata": {},
   "outputs": [
    {
     "data": {
      "image/png": "[encoded data removed]",
      "text/plain": [
       "<Figure size 800x600 with 1 Axes>"
      ]
     },
     "metadata": {},
     "output_type": "display_data"
    }
   ],
   "source": [
    "mems_layers = ['met1drawing', 'viadrawing', 'met2drawing', 'via2drawing', 'met3drawing', 'via3drawing',\n",
    "               'met4drawing', 'via4drawing', 'met5drawing']\n",
    "fixed_drive_elec_length = 5\n",
    "coupling_gap = 1\n",
    "\n",
    "drive_elec_length = fixed_drive_elec_length\n",
    "total_detf_length = length + 2*length + 2*thickness # length + (drive_arms) length + (drive_electrodes) width\n",
    "total_detf_width = width + 2*(3*thickness) # width + (anchors) width\n",
    "\n",
    "coupled_resonators = gf.Component(\"coupled_resonators_all_layers\")\n",
    "\n",
    "# create CMOS process layers\n",
    "for layer in mems_layers:\n",
    "    resonator = detf(length, width, thickness, biomems_pdk.layers[layer])\n",
    "    drive_elec = drive_electrode(fixed_drive_elec_length, width/2, biomems_pdk.layers[layer])\n",
    "    \n",
    "    coupled_resonators.add_ref(\n",
    "        two_way_coupled_resonator(resonator, total_detf_length, coupling_gap, drive_elec, drive_elec_length)\n",
    "    )\n",
    "\n",
    "# create silicon subtrate trench\n",
    "trench_rect = gf.components.rectangle(size=(total_detf_length*2+drive_elec_length, total_detf_width-3*thickness), layer=biomems_pdk.layers['trench'])\n",
    "trench_rect_ref = coupled_resonators.add_ref(trench_rect)\n",
    "trench_rect_ref.move([-total_detf_length-drive_elec_length/2,-total_detf_width/2+3*thickness/2])\n",
    "\n",
    "coupled_resonators.plot()"
   ]
  },
  {
   "cell_type": "markdown",
   "id": "650ec72a-6047-499b-96a2-9c28b7db757d",
   "metadata": {},
   "source": [
    "Let's now add the coating necessary to bind HER2 molecules in one of the resonators:"
   ]
  },
  {
   "cell_type": "code",
   "execution_count": 16,
   "id": "7e5fcf61-6ac6-4c82-8168-d08960894730",
   "metadata": {},
   "outputs": [
    {
     "data": {
      "image/png": "[encoded data removed]",
      "text/plain": [
       "<Figure size 800x600 with 1 Axes>"
      ]
     },
     "metadata": {},
     "output_type": "display_data"
    }
   ],
   "source": [
    "res_coating = detf(length, width, thickness, biomems_pdk.layers['coating'])\n",
    "res_coating_ref = coupled_resonators.add_ref(res_coating)\n",
    "res_coating_ref.move([total_detf_length/2 + coupling_gap/2 ,0])\n",
    "\n",
    "coupled_resonators.plot()"
   ]
  },
  {
   "cell_type": "markdown",
   "id": "44b826b0-f9ed-495b-86a2-641f97f91190",
   "metadata": {},
   "source": [
    "Now finish by saving the GDSII file."
   ]
  },
  {
   "cell_type": "code",
   "execution_count": 15,
   "id": "a817db16-0b94-4846-b063-629bc9c0ae03",
   "metadata": {},
   "outputs": [
    {
     "name": "stderr",
     "output_type": "stream",
     "text": [
      "\u001b[32m2023-11-26 19:59:26.485\u001b[0m | \u001b[1mINFO    \u001b[0m | \u001b[36mgdsfactory.component\u001b[0m:\u001b[36m_write_library\u001b[0m:\u001b[36m1913\u001b[0m - \u001b[1mWrote to 'coupled_resonators.gds'\u001b[0m\n"
     ]
    },
    {
     "data": {
      "text/plain": [
       "PosixPath('coupled_resonators.gds')"
      ]
     },
     "execution_count": 15,
     "metadata": {},
     "output_type": "execute_result"
    }
   ],
   "source": [
    "coupled_resonators.write_gds(\"coupled_resonators.gds\")"
   ]
  },
  {
   "cell_type": "markdown",
   "id": "c94a1796-e4fd-4035-a591-1b7fd31427a8",
   "metadata": {},
   "source": [
    "### Step 3: Simulating the mechanical microsystem"
   ]
  },
  {
   "cell_type": "raw",
   "id": "a83e0b54-5608-40a0-af31-b4c5e1c5a73d",
   "metadata": {},
   "source": [
    "with an opensource FEM library (Kratos Multiphysics, FEniCS, sfepy, scikit-fem) - worst case, with an ODE solver (Scipy)"
   ]
  },
  {
   "cell_type": "code",
   "execution_count": 20,
   "id": "e74afbd0-4992-4ef1-acc8-76abe8fc353a",
   "metadata": {},
   "outputs": [
    {
     "ename": "AttributeError",
     "evalue": "'GdsLibrary' object has no attribute 'cell_dict'",
     "output_type": "error",
     "traceback": [
      "\u001b[0;31m---------------------------------------------------------------------------\u001b[0m",
      "\u001b[0;31mAttributeError\u001b[0m                            Traceback (most recent call last)",
      "Cell \u001b[0;32mIn[20], line 30\u001b[0m\n\u001b[1;32m     28\u001b[0m \u001b[38;5;66;03m# Extract the polygons from GDS layers\u001b[39;00m\n\u001b[1;32m     29\u001b[0m polygons \u001b[38;5;241m=\u001b[39m []\n\u001b[0;32m---> 30\u001b[0m \u001b[38;5;28;01mfor\u001b[39;00m cell_name, cell \u001b[38;5;129;01min\u001b[39;00m \u001b[43mgds_library\u001b[49m\u001b[38;5;241;43m.\u001b[39;49m\u001b[43mcell_dict\u001b[49m\u001b[38;5;241m.\u001b[39mitems():\n\u001b[1;32m     31\u001b[0m     \u001b[38;5;28;01mfor\u001b[39;00m layer \u001b[38;5;129;01min\u001b[39;00m cell\u001b[38;5;241m.\u001b[39mget_layers():\n\u001b[1;32m     32\u001b[0m         polygons\u001b[38;5;241m.\u001b[39mextend(cell\u001b[38;5;241m.\u001b[39mget_polygons(by_spec\u001b[38;5;241m=\u001b[39m\u001b[38;5;28;01mTrue\u001b[39;00m, layer\u001b[38;5;241m=\u001b[39mlayer))\n",
      "\u001b[0;31mAttributeError\u001b[0m: 'GdsLibrary' object has no attribute 'cell_dict'"
     ]
    }
   ],
   "source": []
  },
  {
   "cell_type": "markdown",
   "id": "f1aad387-0b4a-418e-8a82-0e01d8489db2",
   "metadata": {},
   "source": [
    "### Step 4: Designing the analog/digital front-end"
   ]
  },
  {
   "cell_type": "raw",
   "id": "413a3b24-cd78-4d64-8e13-83ccb593d0df",
   "metadata": {},
   "source": [
    "simulate in ngspice"
   ]
  },
  {
   "cell_type": "markdown",
   "id": "6c704807-afb8-43b7-82b9-26ee4d104d09",
   "metadata": {},
   "source": [
    "### Step 5: Generating the front-end physical layout"
   ]
  },
  {
   "cell_type": "raw",
   "id": "0afcdb0f-e2bc-494e-86ec-7228deccfca5",
   "metadata": {},
   "source": [
    "logic synthesis with OpenROAD/OpenLane"
   ]
  },
  {
   "cell_type": "raw",
   "id": "9b2ca9a9-5c04-4fda-b3d8-7b3bcbaef3b1",
   "metadata": {},
   "source": [
    "extract parasitics with Magic and re-simulate in ngspice"
   ]
  },
  {
   "cell_type": "markdown",
   "id": "c14bb682-fc26-49e2-a12a-acbe45f3939f",
   "metadata": {},
   "source": [
    "### Step 6: Integrating the systems"
   ]
  },
  {
   "cell_type": "raw",
   "id": "dc17642d-06f1-4b10-a0de-0c0643b751f6",
   "metadata": {},
   "source": [
    "use gdsfactory to connect the resonator electrodes with the electronic circuit terminals"
   ]
  },
  {
   "cell_type": "raw",
   "id": "34702fc6-b0b6-45cb-99a7-7496e22ae1e1",
   "metadata": {},
   "source": [
    "remark: missing multiphysics simulation, necessary for validating the integrated design - w.r.t. problems such as interaction between CMOS and MEMS structures, mechanical stress etc."
   ]
  },
  {
   "cell_type": "markdown",
   "id": "6851bc41-f2bd-476c-a49a-92c760fc69b0",
   "metadata": {},
   "source": [
    "## Conclusion"
   ]
  },
  {
   "cell_type": "raw",
   "id": "d6f3ebc4-37ee-4abd-8bb8-2beaefaf0541",
   "metadata": {},
   "source": [
    "\n",
    "hint at why software-defined (because it is entirely generated from software, so we can easily change its dimensions etc., or develop optimization techniques further to generate a better design)\n",
    "\n",
    "going further, an array of coupled resonators, each with a coating for a different biomarker, could be designed for more general in-situ early breast cancer detection.\n",
    "\n",
    "colocar remark dizendo que, claro, este eh apenas um projeto teorico para mostrar a possibilidade de usar resonators mems pra detectar substancias como biomarkers. na pratica, se um tal dispostivo fosse ser fabricado, o processo de design deveria ser acompanhado por uma equipe medica com expertise na biofisica intrinseca do assunto, e com experiencia clinica."
   ]
  },
  {
   "cell_type": "markdown",
   "id": "0d69c78c-a7d3-41aa-980d-bf8f562d4e7d",
   "metadata": {},
   "source": [
    "## References"
   ]
  },
  {
   "cell_type": "markdown",
   "id": "8d4e75ec-b69a-4e07-a479-dfb251a2f83e",
   "metadata": {},
   "source": [
    "<a id='ref1-biomarker'></a>\n",
    "[1] https://www.cancer.org/cancer/diagnosis-staging/tests/biomarker-tests.html"
   ]
  },
  {
   "cell_type": "markdown",
   "id": "07d1eb65-55ae-4e8b-8d1f-8abb4e5460d6",
   "metadata": {},
   "source": [
    "<a id='ref2-HER2'></a>\n",
    "[2] https://www.mayoclinic.org/breast-cancer/expert-answers/faq-20058066"
   ]
  },
  {
   "cell_type": "markdown",
   "id": "8f51df0d-4205-4422-8081-6f06cc74f10b",
   "metadata": {},
   "source": [
    "<a id='ref3-coupledDETF'></a>\n",
    "[3] https://ieeexplore.ieee.org/document/5210140/"
   ]
  },
  {
   "cell_type": "markdown",
   "id": "3265b7e2-57e5-4d68-b062-604451f01d29",
   "metadata": {},
   "source": [
    "<a id='ref4-HER2serum'></a>\n",
    "[4] https://bmccancer.biomedcentral.com/articles/10.1186/s12885-020-07545-2"
   ]
  },
  {
   "cell_type": "markdown",
   "id": "dacfc754-d020-4e68-a5d6-44c016d3c4bf",
   "metadata": {},
   "source": [
    "<a id='ref5-cmosmems'></a>\n",
    "[5] https://www.ncbi.nlm.nih.gov/pmc/articles/PMC6189935/"
   ]
  },
  {
   "cell_type": "markdown",
   "id": "a44e8645-1853-49b8-a8f1-8ad6ca757778",
   "metadata": {},
   "source": [
    "<a id='ref6-driecmosmems'></a>\n",
    "[6] https://www.frontiersin.org/articles/10.3389/fmech.2022.894484/full"
   ]
  },
  {
   "cell_type": "markdown",
   "id": "3bb8bddc-6818-4f64-b187-13134c8434ca",
   "metadata": {},
   "source": [
    "<a id='ref7-science'></a>\n",
    "[7] https://science.xyz/docs/d/mems-soi/index"
   ]
  },
  {
   "cell_type": "markdown",
   "id": "8238507f-0d92-4222-b466-ebcb3926a419",
   "metadata": {},
   "source": [
    "<a id='ref8-her2antibodies'></a>\n",
    "[8] https://www.frontiersin.org/journals/oncology/articles/10.3389/fonc.2022.917439/full"
   ]
  },
  {
   "cell_type": "markdown",
   "id": "135207f4-03bb-4764-98aa-19159cdf037f",
   "metadata": {},
   "source": [
    "<a id='ref9-quantumdot'></a>\n",
    "[9] https://molmed.biomedcentral.com/articles/10.1186/s10020-019-0108-z"
   ]
  },
  {
   "cell_type": "markdown",
   "id": "5a0c1fac-b980-4b73-a1e0-ca3afcccdfd3",
   "metadata": {},
   "source": [
    "<a id='ref10-layerbylayer'></a>\n",
    "[10] https://novapublishers.com/shop/layer-by-layer-deposition-development-and-applications/ (put the book)"
   ]
  },
  {
   "cell_type": "markdown",
   "id": "31748543-df2a-4352-8150-c8a54ac101c7",
   "metadata": {},
   "source": [
    "## Acknowledgements?\n",
    "\n",
    "my advisor in CentraleSupélec, with whom I learned a lot about MEMS design and fabrication techniques\n",
    "my partner, who is studying medicine and helped me with biophysics and biochemistry intrinsics\n",
    "the open source silicon community, that is creating contest opportunities like this and changing the way engineers learn and use microelectronics for a better and more inclusive field"
   ]
  }
 ],
 "metadata": {
  "kernelspec": {
   "display_name": "Python 3 (ipykernel)",
   "language": "python",
   "name": "python3"
  },
  "language_info": {
   "codemirror_mode": {
    "name": "ipython",
    "version": 3
   },
   "file_extension": ".py",
   "mimetype": "text/x-python",
   "name": "python",
   "nbconvert_exporter": "python",
   "pygments_lexer": "ipython3",
   "version": "3.10.12"
  }
 },
 "nbformat": 4,
 "nbformat_minor": 5
}
